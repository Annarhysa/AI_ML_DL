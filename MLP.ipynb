{
  "nbformat": 4,
  "nbformat_minor": 0,
  "metadata": {
    "colab": {
      "provenance": []
    },
    "kernelspec": {
      "name": "python3",
      "display_name": "Python 3"
    },
    "language_info": {
      "name": "python"
    }
  },
  "cells": [
    {
      "cell_type": "code",
      "execution_count": null,
      "metadata": {
        "colab": {
          "base_uri": "https://localhost:8080/"
        },
        "id": "n7FJzBs8p87E",
        "outputId": "f9ae50f4-474d-4a53-d309-c501c0469aae"
      },
      "outputs": [
        {
          "output_type": "stream",
          "name": "stdout",
          "text": [
            "New Output: [36.38246231]\n"
          ]
        }
      ],
      "source": [
        "from sklearn.neural_network import MLPRegressor\n",
        "from sklearn.metrics import mean_squared_error\n",
        "import numpy as np\n",
        "import requests\n",
        "\n",
        "# Define the URL to the online dataset\n",
        "url = \"https://archive.ics.uci.edu/ml/machine-learning-databases/housing/housing.data\"\n",
        "\n",
        "# Load the online dataset into a NumPy array\n",
        "response = requests.get(url)\n",
        "data = response.content.decode('utf-8')\n",
        "data = data.strip().split('\\n')\n",
        "data = [list(map(float, row.strip().split())) for row in data]\n",
        "data = np.array(data)\n",
        "\n",
        "# Split the dataset into input and output variables\n",
        "X = data[:, :-1]\n",
        "y = data[:, -1]\n",
        "\n",
        "# Define the MLP model with four hidden layers of 100, 50, 25, and 10 neurons respectively\n",
        "mlp = MLPRegressor(hidden_layer_sizes=(100, 50, 25, 10), max_iter=1000, random_state=42)\n",
        "\n",
        "# Train the model on the entire dataset\n",
        "mlp.fit(X, y)\n",
        "\n",
        "# Use the trained model to predict the output for a new input\n",
        "new_input = np.array([[0.03237, 0.0, 2.18, 0.0, 0.458, 6.998, 45.8, 6.0622, 3.0, 222.0, 18.7, 394.63, 2.94]])\n",
        "new_output = mlp.predict(new_input)\n",
        "print(\"New Output:\", new_output)\n"
      ]
    }
  ]
}