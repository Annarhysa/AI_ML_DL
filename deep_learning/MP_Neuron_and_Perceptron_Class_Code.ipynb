{
  "nbformat": 4,
  "nbformat_minor": 0,
  "metadata": {
    "colab": {
      "provenance": []
    },
    "kernelspec": {
      "name": "python3",
      "display_name": "Python 3"
    },
    "language_info": {
      "name": "python"
    }
  },
  "cells": [
    {
      "cell_type": "code",
      "execution_count": null,
      "metadata": {
        "id": "E1n4l_QbrSXr"
      },
      "outputs": [],
      "source": [
        "import numpy as np\n",
        "import pandas as pd\n",
        "class MPNeuron:\n",
        "  def __init__(self):\n",
        "    self.threshold = None\n",
        "  def model(self, x):\n",
        "    return 1 if sum(x) >= self.threshold else 0\n",
        "  def predict(self, X):\n",
        "    y_pred = [self.model(x) for x in X]\n",
        "    return np.array(y_pred)\n",
        "\n",
        "  def fit(self, X, y):\n",
        "    accuracy = {}\n",
        "    for threshold in range(1, X.shape[1] + 1):\n",
        "      self.threshold = threshold\n",
        "      y_pred = self.predict(X)\n",
        "      accuracy[threshold] = np.mean(y_pred == y)\n",
        "\n",
        "    best_threshold = max(accuracy, key=accuracy.get)\n",
        "    self.threshold = best_threshold\n",
        "    print(\"Best Threshold:\", self.threshold)\n",
        "    print(\"Training Accuracy:\", accuracy[best_threshold])"
      ]
    },
    {
      "cell_type": "code",
      "source": [
        "class Perceptron:\n",
        "  def __init__(self, learning_rate=0.01, epochs=100):\n",
        "    self.learning_rate = learning_rate\n",
        "    self.epochs = epochs\n",
        "    self.weights = None\n",
        "    self.bias = None\n",
        "\n",
        "  def model(self, x):\n",
        "    return 1 if np.dot(x, self.weights) + self.bias >= 0 else 0\n",
        "  def predict(self, X):\n",
        "    y_pred = [self.model(x) for x in X]\n",
        "    return np.array(y_pred)\n",
        "  def fit(self, X, y):\n",
        "    n_samples, n_features = X.shape\n",
        "    self.weights = np.random.rand(n_features)\n",
        "    self.bias = np.random.rand()\n",
        "    for _ in range(self.epochs):\n",
        "      for i in range(n_samples):\n",
        "        y_pred = self.model(X[i])\n",
        "        update = self.learning_rate * (y[i] - y_pred)\n",
        "        self.weights += update * X[i]\n",
        "        self.bias += update\n",
        "    y_pred = self.predict(X)\n",
        "    print(\"Training Accuracy:\", np.mean(y_pred == y))"
      ],
      "metadata": {
        "id": "k77re4hbrZZd"
      },
      "execution_count": null,
      "outputs": []
    },
    {
      "cell_type": "code",
      "source": [
        "def logical_AND_OR_gate():\n",
        "  X_AND = np.array([[0, 0], [0, 1], [1, 0], [1, 1]])\n",
        "  y_AND = np.array([0, 0, 0, 1])\n",
        "  X_OR = np.array([[0, 0], [0, 1], [1, 0], [1, 1]])\n",
        "  y_OR = np.array([0, 1, 1, 1])\n",
        "  mp_and = MPNeuron()\n",
        "  mp_and.fit(X_AND, y_AND)\n",
        "  perceptron_and = Perceptron()\n",
        "  perceptron_and.fit(X_AND, y_AND)\n",
        "\n",
        "  mp_or = MPNeuron()\n",
        "  mp_or.fit(X_OR, y_OR)\n",
        "  perceptron_or = Perceptron()\n",
        "  perceptron_or.fit(X_OR, y_OR)\n",
        "  test_data = np.array([[0, 0], [0, 1], [1, 0], [1, 1]])\n",
        "  print(\"MP Neuron AND Output:\", mp_and.predict(test_data))\n",
        "  print(\"Perceptron AND Output:\", perceptron_and.predict(test_data))\n",
        "  print(\"MP Neuron OR Output:\", mp_or.predict(test_data))\n",
        "  print(\"Perceptron OR Output:\", perceptron_or.predict(test_data))"
      ],
      "metadata": {
        "id": "t2SNaW6SsF1e"
      },
      "execution_count": null,
      "outputs": []
    },
    {
      "cell_type": "code",
      "source": [
        "# Apply logical gates AND and OR using MP Neuron and Perceptron\n",
        "logical_AND_OR_gate()"
      ],
      "metadata": {
        "colab": {
          "base_uri": "https://localhost:8080/"
        },
        "id": "Jzs6rc-ItB9Y",
        "outputId": "88248144-9b68-4141-b5f0-59b07e887a05"
      },
      "execution_count": null,
      "outputs": [
        {
          "output_type": "stream",
          "name": "stdout",
          "text": [
            "Best Threshold: 2\n",
            "Training Accuracy: 1.0\n",
            "Training Accuracy: 1.0\n",
            "Best Threshold: 1\n",
            "Training Accuracy: 1.0\n",
            "Training Accuracy: 1.0\n",
            "MP Neuron AND Output: [0 0 0 1]\n",
            "Perceptron AND Output: [0 0 0 1]\n",
            "MP Neuron OR Output: [0 1 1 1]\n",
            "Perceptron OR Output: [0 1 1 1]\n"
          ]
        }
      ]
    }
  ]
}