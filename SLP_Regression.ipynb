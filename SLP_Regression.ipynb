{
  "nbformat": 4,
  "nbformat_minor": 0,
  "metadata": {
    "colab": {
      "provenance": []
    },
    "kernelspec": {
      "name": "python3",
      "display_name": "Python 3"
    },
    "language_info": {
      "name": "python"
    }
  },
  "cells": [
    {
      "cell_type": "code",
      "execution_count": null,
      "metadata": {
        "id": "Av4ybvHUuP1U"
      },
      "outputs": [],
      "source": [
        "import numpy as np\n",
        "import matplotlib.pyplot as plt\n",
        "\n",
        "class Perceptron:\n",
        "    def __init__(self, input_size, learning_rate=0.1, num_iterations=100):\n",
        "        self.weights = np.zeros(input_size + 1)\n",
        "        self.lr = learning_rate\n",
        "        self.num_iterations = num_iterations\n",
        "    \n",
        "    def activation_function(self, x):\n",
        "        return x\n",
        "    \n",
        "    def predict(self, x):\n",
        "        z = np.dot(x, self.weights[1:]) + self.weights[0]\n",
        "        return self.activation_function(z)\n",
        "    \n",
        "    def fit(self, X, y):\n",
        "        for i in range(self.num_iterations):\n",
        "            for j in range(len(X)):\n",
        "                x = X[j]\n",
        "                y_pred = self.predict(x)\n",
        "                error = y[j] - y_pred\n",
        "                self.weights[1:] += self.lr * error * x\n",
        "                self.weights[0] += self.lr * error\n",
        "                \n",
        "X = np.array([[1, 1], [2, 2], [3, 3], [4, 4], [5, 5], [6, 6], [7, 7], [8, 8], [9, 9], [10, 10]])\n",
        "y = np.array([1, 2, 3, 4, 5, 6, 7, 8, 9, 10])\n",
        "perceptron = Perceptron(input_size=2)\n",
        "perceptron.fit(X, y)\n",
        "\n",
        "plt.scatter(X[:,0], y, color='red')\n",
        "plt.plot(X[:,0], perceptron.predict(X), color='blue')\n",
        "plt.show()"
      ]
    }
  ]
}