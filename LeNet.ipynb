{
  "nbformat": 4,
  "nbformat_minor": 0,
  "metadata": {
    "colab": {
      "provenance": []
    },
    "kernelspec": {
      "name": "python3",
      "display_name": "Python 3"
    },
    "language_info": {
      "name": "python"
    }
  },
  "cells": [
    {
      "cell_type": "code",
      "execution_count": null,
      "metadata": {
        "colab": {
          "base_uri": "https://localhost:8080/"
        },
        "id": "WlZu0KmV-iZI",
        "outputId": "2943d4ab-2289-40a1-8e40-5534912c71b5"
      },
      "outputs": [
        {
          "output_type": "stream",
          "name": "stdout",
          "text": [
            "Epoch 1/10\n"
          ]
        },
        {
          "output_type": "stream",
          "name": "stderr",
          "text": [
            "/usr/local/lib/python3.10/dist-packages/keras/src/backend.py:5714: UserWarning: \"`sparse_categorical_crossentropy` received `from_logits=True`, but the `output` argument was produced by a Softmax activation and thus does not represent logits. Was this intended?\n",
            "  output, from_logits = _get_logits(\n"
          ]
        },
        {
          "output_type": "stream",
          "name": "stdout",
          "text": [
            "1563/1563 [==============================] - 46s 29ms/step - loss: 1.6282 - accuracy: 0.4037 - val_loss: 1.4465 - val_accuracy: 0.4767\n",
            "Epoch 2/10\n",
            "1563/1563 [==============================] - 43s 28ms/step - loss: 1.3651 - accuracy: 0.5098 - val_loss: 1.3129 - val_accuracy: 0.5383\n",
            "Epoch 3/10\n",
            "1563/1563 [==============================] - 41s 26ms/step - loss: 1.2443 - accuracy: 0.5543 - val_loss: 1.2975 - val_accuracy: 0.5422\n",
            "Epoch 4/10\n",
            "1563/1563 [==============================] - 44s 28ms/step - loss: 1.1620 - accuracy: 0.5874 - val_loss: 1.1892 - val_accuracy: 0.5793\n",
            "Epoch 5/10\n",
            "1563/1563 [==============================] - 41s 26ms/step - loss: 1.0976 - accuracy: 0.6080 - val_loss: 1.2232 - val_accuracy: 0.5801\n",
            "Epoch 6/10\n",
            "1563/1563 [==============================] - 41s 26ms/step - loss: 1.0341 - accuracy: 0.6338 - val_loss: 1.1369 - val_accuracy: 0.5991\n",
            "Epoch 7/10\n",
            "1563/1563 [==============================] - 45s 29ms/step - loss: 0.9895 - accuracy: 0.6491 - val_loss: 1.1257 - val_accuracy: 0.6121\n",
            "Epoch 8/10\n",
            "1563/1563 [==============================] - 43s 27ms/step - loss: 0.9433 - accuracy: 0.6654 - val_loss: 1.1337 - val_accuracy: 0.6142\n",
            "Epoch 9/10\n",
            "1563/1563 [==============================] - 42s 27ms/step - loss: 0.9013 - accuracy: 0.6801 - val_loss: 1.1252 - val_accuracy: 0.6161\n",
            "Epoch 10/10\n",
            "1563/1563 [==============================] - 45s 29ms/step - loss: 0.8684 - accuracy: 0.6919 - val_loss: 1.0894 - val_accuracy: 0.6280\n",
            "313/313 - 3s - loss: 1.0894 - accuracy: 0.6280 - 3s/epoch - 10ms/step\n",
            "\n",
            "Test accuracy: 0.6280\n"
          ]
        }
      ],
      "source": [
        "import tensorflow as tf\n",
        "from tensorflow.keras import datasets, layers, models\n",
        "import matplotlib.pyplot as plt\n",
        "\n",
        "# Load and preprocess the dataset (e.g., CIFAR-10)\n",
        "(train_images, train_labels), (test_images, test_labels) = datasets.cifar10.load_data()\n",
        "train_images, test_images = train_images / 255.0, test_images / 255.0\n",
        "\n",
        "# Define the LeNet-5 model\n",
        "model = models.Sequential()\n",
        "model.add(layers.Conv2D(6, (5, 5), activation='relu', input_shape=(32, 32, 3)))\n",
        "model.add(layers.MaxPooling2D((2, 2)))\n",
        "model.add(layers.Conv2D(16, (5, 5), activation='relu'))\n",
        "model.add(layers.MaxPooling2D((2, 2)))\n",
        "model.add(layers.Flatten())\n",
        "model.add(layers.Dense(120, activation='relu'))\n",
        "model.add(layers.Dense(84, activation='relu'))\n",
        "model.add(layers.Dense(10, activation= 'softmax'))  # Output layer with 10 classes\n",
        "\n",
        "# Compile the model\n",
        "model.compile(optimizer='adam',\n",
        "              loss=tf.keras.losses.SparseCategoricalCrossentropy(from_logits=True),\n",
        "              metrics=['accuracy'])\n",
        "\n",
        "# Train the model\n",
        "history = model.fit(train_images, train_labels, epochs=10,\n",
        "                    validation_data=(test_images, test_labels))\n",
        "\n",
        "# Evaluate the model\n",
        "test_loss, test_acc = model.evaluate(test_images, test_labels, verbose=2)\n",
        "print(f\"\\nTest accuracy: {test_acc:.4f}\")"
      ]
    },
    {
      "cell_type": "code",
      "source": [
        "plt.plot(history.history['loss'])"
      ],
      "metadata": {
        "colab": {
          "base_uri": "https://localhost:8080/",
          "height": 447
        },
        "id": "-3xV13Xl_nBQ",
        "outputId": "43163cf5-aa37-4f5b-e4ff-71a78a617c93"
      },
      "execution_count": null,
      "outputs": [
        {
          "output_type": "execute_result",
          "data": {
            "text/plain": [
              "[<matplotlib.lines.Line2D at 0x7cb7a897df30>]"
            ]
          },
          "metadata": {},
          "execution_count": 12
        },
        {
          "output_type": "display_data",
          "data": {
            "text/plain": [
              "<Figure size 640x480 with 1 Axes>"
            ],
            "image/png": "[encoded data removed]"
          },
          "metadata": {}
        }
      ]
    },
    {
      "cell_type": "code",
      "source": [],
      "metadata": {
        "id": "5nh6U1_1CAv-"
      },
      "execution_count": null,
      "outputs": []
    }
  ]
}